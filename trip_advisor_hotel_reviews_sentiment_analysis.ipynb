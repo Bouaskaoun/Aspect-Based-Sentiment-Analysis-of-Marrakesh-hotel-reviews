{
  "metadata": {
    "kernelspec": {
      "language": "python",
      "display_name": "Python 3",
      "name": "python3"
    },
    "language_info": {
      "name": "python",
      "version": "3.7.12",
      "mimetype": "text/x-python",
      "codemirror_mode": {
        "name": "ipython",
        "version": 3
      },
      "pygments_lexer": "ipython3",
      "nbconvert_exporter": "python",
      "file_extension": ".py"
    },
    "colab": {
      "provenance": [],
      "collapsed_sections": [
        "KMGfIV1y101v",
        "i65tTOP3101x",
        "IzqPIgY_1010"
      ]
    },
    "widgets": {
      "application/vnd.jupyter.widget-state+json": {
        "0ac6bb428f6b4906b53fbbd536d3ea89": {
          "model_module": "@jupyter-widgets/controls",
          "model_name": "HBoxModel",
          "model_module_version": "1.5.0",
          "state": {
            "_dom_classes": [],
            "_model_module": "@jupyter-widgets/controls",
            "_model_module_version": "1.5.0",
            "_model_name": "HBoxModel",
            "_view_count": null,
            "_view_module": "@jupyter-widgets/controls",
            "_view_module_version": "1.5.0",
            "_view_name": "HBoxView",
            "box_style": "",
            "children": [
              "IPY_MODEL_d643ef4e1f3c4eabb8d8bc3ef789d6ff",
              "IPY_MODEL_9161535feb0248abbcbb639fac24fc60",
              "IPY_MODEL_e49718503dce4283beb893f5b987ce10"
            ],
            "layout": "IPY_MODEL_e6fa940fa84b42cc897fe3f8ac1fdf97"
          }
        },
        "d643ef4e1f3c4eabb8d8bc3ef789d6ff": {
          "model_module": "@jupyter-widgets/controls",
          "model_name": "HTMLModel",
          "model_module_version": "1.5.0",
          "state": {
            "_dom_classes": [],
            "_model_module": "@jupyter-widgets/controls",
            "_model_module_version": "1.5.0",
            "_model_name": "HTMLModel",
            "_view_count": null,
            "_view_module": "@jupyter-widgets/controls",
            "_view_module_version": "1.5.0",
            "_view_name": "HTMLView",
            "description": "",
            "description_tooltip": null,
            "layout": "IPY_MODEL_a0a157f2ca484c9892d902470ffbc521",
            "placeholder": "​",
            "style": "IPY_MODEL_f2fdb9b9482d455593ca186a076358f7",
            "value": "100%"
          }
        },
        "9161535feb0248abbcbb639fac24fc60": {
          "model_module": "@jupyter-widgets/controls",
          "model_name": "FloatProgressModel",
          "model_module_version": "1.5.0",
          "state": {
            "_dom_classes": [],
            "_model_module": "@jupyter-widgets/controls",
            "_model_module_version": "1.5.0",
            "_model_name": "FloatProgressModel",
            "_view_count": null,
            "_view_module": "@jupyter-widgets/controls",
            "_view_module_version": "1.5.0",
            "_view_name": "ProgressView",
            "bar_style": "success",
            "description": "",
            "description_tooltip": null,
            "layout": "IPY_MODEL_52c36d3585344dbc9ae5a35822bf7ac2",
            "max": 20000,
            "min": 0,
            "orientation": "horizontal",
            "style": "IPY_MODEL_b4c8303846ab48dfa10ca6930a8a5a1b",
            "value": 20000
          }
        },
        "e49718503dce4283beb893f5b987ce10": {
          "model_module": "@jupyter-widgets/controls",
          "model_name": "HTMLModel",
          "model_module_version": "1.5.0",
          "state": {
            "_dom_classes": [],
            "_model_module": "@jupyter-widgets/controls",
            "_model_module_version": "1.5.0",
            "_model_name": "HTMLModel",
            "_view_count": null,
            "_view_module": "@jupyter-widgets/controls",
            "_view_module_version": "1.5.0",
            "_view_name": "HTMLView",
            "description": "",
            "description_tooltip": null,
            "layout": "IPY_MODEL_29bd30c52ca54220b62455a3eb750bc7",
            "placeholder": "​",
            "style": "IPY_MODEL_ad7bd14e1dbc48c59de75f4f34627823",
            "value": " 20000/20000 [17:48&lt;00:00, 25.49it/s]"
          }
        },
        "e6fa940fa84b42cc897fe3f8ac1fdf97": {
          "model_module": "@jupyter-widgets/base",
          "model_name": "LayoutModel",
          "model_module_version": "1.2.0",
          "state": {
            "_model_module": "@jupyter-widgets/base",
            "_model_module_version": "1.2.0",
            "_model_name": "LayoutModel",
            "_view_count": null,
            "_view_module": "@jupyter-widgets/base",
            "_view_module_version": "1.2.0",
            "_view_name": "LayoutView",
            "align_content": null,
            "align_items": null,
            "align_self": null,
            "border": null,
            "bottom": null,
            "display": null,
            "flex": null,
            "flex_flow": null,
            "grid_area": null,
            "grid_auto_columns": null,
            "grid_auto_flow": null,
            "grid_auto_rows": null,
            "grid_column": null,
            "grid_gap": null,
            "grid_row": null,
            "grid_template_areas": null,
            "grid_template_columns": null,
            "grid_template_rows": null,
            "height": null,
            "justify_content": null,
            "justify_items": null,
            "left": null,
            "margin": null,
            "max_height": null,
            "max_width": null,
            "min_height": null,
            "min_width": null,
            "object_fit": null,
            "object_position": null,
            "order": null,
            "overflow": null,
            "overflow_x": null,
            "overflow_y": null,
            "padding": null,
            "right": null,
            "top": null,
            "visibility": null,
            "width": null
          }
        },
        "a0a157f2ca484c9892d902470ffbc521": {
          "model_module": "@jupyter-widgets/base",
          "model_name": "LayoutModel",
          "model_module_version": "1.2.0",
          "state": {
            "_model_module": "@jupyter-widgets/base",
            "_model_module_version": "1.2.0",
            "_model_name": "LayoutModel",
            "_view_count": null,
            "_view_module": "@jupyter-widgets/base",
            "_view_module_version": "1.2.0",
            "_view_name": "LayoutView",
            "align_content": null,
            "align_items": null,
            "align_self": null,
            "border": null,
            "bottom": null,
            "display": null,
            "flex": null,
            "flex_flow": null,
            "grid_area": null,
            "grid_auto_columns": null,
            "grid_auto_flow": null,
            "grid_auto_rows": null,
            "grid_column": null,
            "grid_gap": null,
            "grid_row": null,
            "grid_template_areas": null,
            "grid_template_columns": null,
            "grid_template_rows": null,
            "height": null,
            "justify_content": null,
            "justify_items": null,
            "left": null,
            "margin": null,
            "max_height": null,
            "max_width": null,
            "min_height": null,
            "min_width": null,
            "object_fit": null,
            "object_position": null,
            "order": null,
            "overflow": null,
            "overflow_x": null,
            "overflow_y": null,
            "padding": null,
            "right": null,
            "top": null,
            "visibility": null,
            "width": null
          }
        },
        "f2fdb9b9482d455593ca186a076358f7": {
          "model_module": "@jupyter-widgets/controls",
          "model_name": "DescriptionStyleModel",
          "model_module_version": "1.5.0",
          "state": {
            "_model_module": "@jupyter-widgets/controls",
            "_model_module_version": "1.5.0",
            "_model_name": "DescriptionStyleModel",
            "_view_count": null,
            "_view_module": "@jupyter-widgets/base",
            "_view_module_version": "1.2.0",
            "_view_name": "StyleView",
            "description_width": ""
          }
        },
        "52c36d3585344dbc9ae5a35822bf7ac2": {
          "model_module": "@jupyter-widgets/base",
          "model_name": "LayoutModel",
          "model_module_version": "1.2.0",
          "state": {
            "_model_module": "@jupyter-widgets/base",
            "_model_module_version": "1.2.0",
            "_model_name": "LayoutModel",
            "_view_count": null,
            "_view_module": "@jupyter-widgets/base",
            "_view_module_version": "1.2.0",
            "_view_name": "LayoutView",
            "align_content": null,
            "align_items": null,
            "align_self": null,
            "border": null,
            "bottom": null,
            "display": null,
            "flex": null,
            "flex_flow": null,
            "grid_area": null,
            "grid_auto_columns": null,
            "grid_auto_flow": null,
            "grid_auto_rows": null,
            "grid_column": null,
            "grid_gap": null,
            "grid_row": null,
            "grid_template_areas": null,
            "grid_template_columns": null,
            "grid_template_rows": null,
            "height": null,
            "justify_content": null,
            "justify_items": null,
            "left": null,
            "margin": null,
            "max_height": null,
            "max_width": null,
            "min_height": null,
            "min_width": null,
            "object_fit": null,
            "object_position": null,
            "order": null,
            "overflow": null,
            "overflow_x": null,
            "overflow_y": null,
            "padding": null,
            "right": null,
            "top": null,
            "visibility": null,
            "width": null
          }
        },
        "b4c8303846ab48dfa10ca6930a8a5a1b": {
          "model_module": "@jupyter-widgets/controls",
          "model_name": "ProgressStyleModel",
          "model_module_version": "1.5.0",
          "state": {
            "_model_module": "@jupyter-widgets/controls",
            "_model_module_version": "1.5.0",
            "_model_name": "ProgressStyleModel",
            "_view_count": null,
            "_view_module": "@jupyter-widgets/base",
            "_view_module_version": "1.2.0",
            "_view_name": "StyleView",
            "bar_color": null,
            "description_width": ""
          }
        },
        "29bd30c52ca54220b62455a3eb750bc7": {
          "model_module": "@jupyter-widgets/base",
          "model_name": "LayoutModel",
          "model_module_version": "1.2.0",
          "state": {
            "_model_module": "@jupyter-widgets/base",
            "_model_module_version": "1.2.0",
            "_model_name": "LayoutModel",
            "_view_count": null,
            "_view_module": "@jupyter-widgets/base",
            "_view_module_version": "1.2.0",
            "_view_name": "LayoutView",
            "align_content": null,
            "align_items": null,
            "align_self": null,
            "border": null,
            "bottom": null,
            "display": null,
            "flex": null,
            "flex_flow": null,
            "grid_area": null,
            "grid_auto_columns": null,
            "grid_auto_flow": null,
            "grid_auto_rows": null,
            "grid_column": null,
            "grid_gap": null,
            "grid_row": null,
            "grid_template_areas": null,
            "grid_template_columns": null,
            "grid_template_rows": null,
            "height": null,
            "justify_content": null,
            "justify_items": null,
            "left": null,
            "margin": null,
            "max_height": null,
            "max_width": null,
            "min_height": null,
            "min_width": null,
            "object_fit": null,
            "object_position": null,
            "order": null,
            "overflow": null,
            "overflow_x": null,
            "overflow_y": null,
            "padding": null,
            "right": null,
            "top": null,
            "visibility": null,
            "width": null
          }
        },
        "ad7bd14e1dbc48c59de75f4f34627823": {
          "model_module": "@jupyter-widgets/controls",
          "model_name": "DescriptionStyleModel",
          "model_module_version": "1.5.0",
          "state": {
            "_model_module": "@jupyter-widgets/controls",
            "_model_module_version": "1.5.0",
            "_model_name": "DescriptionStyleModel",
            "_view_count": null,
            "_view_module": "@jupyter-widgets/base",
            "_view_module_version": "1.2.0",
            "_view_name": "StyleView",
            "description_width": ""
          }
        }
      }
    }
  },
  "nbformat_minor": 0,
  "nbformat": 4,
  "cells": [
    {
      "cell_type": "markdown",
      "source": [
        "# Trip Advisor Hotel Reviews - Sentiment Analysis\n",
        "---"
      ],
      "metadata": {
        "id": "xyI90Q1s101g"
      }
    },
    {
      "cell_type": "code",
      "source": [
        "from google.colab import drive\n",
        "drive.mount('/content/drive')"
      ],
      "metadata": {
        "colab": {
          "base_uri": "https://localhost:8080/"
        },
        "id": "yPzs7vnw19S9",
        "outputId": "1b705c83-7f1b-46e4-e0e8-f4c57dcbc3f7"
      },
      "execution_count": 1,
      "outputs": [
        {
          "output_type": "stream",
          "name": "stdout",
          "text": [
            "Mounted at /content/drive\n"
          ]
        }
      ]
    },
    {
      "cell_type": "markdown",
      "source": [
        "# Installs"
      ],
      "metadata": {
        "id": "rBXzOysw101o"
      }
    },
    {
      "cell_type": "code",
      "source": [
        "!pip install -q -U --pre pycaret"
      ],
      "metadata": {
        "execution": {
          "iopub.status.busy": "2023-02-27T18:30:49.557198Z",
          "iopub.execute_input": "2023-02-27T18:30:49.557634Z",
          "iopub.status.idle": "2023-02-27T18:31:41.994181Z",
          "shell.execute_reply.started": "2023-02-27T18:30:49.557594Z",
          "shell.execute_reply": "2023-02-27T18:31:41.992803Z"
        },
        "trusted": true,
        "colab": {
          "base_uri": "https://localhost:8080/"
        },
        "id": "lVRU9Xjk101p",
        "outputId": "584c3221-bc30-4546-8b20-dd2cb5921887"
      },
      "execution_count": 2,
      "outputs": [
        {
          "output_type": "stream",
          "name": "stdout",
          "text": [
            "\u001b[2K     \u001b[90m━━━━━━━━━━━━━━━━━━━━━━━━━━━━━━━━━━━━━━\u001b[0m \u001b[32m481.8/481.8 kB\u001b[0m \u001b[31m11.5 MB/s\u001b[0m eta \u001b[36m0:00:00\u001b[0m\n",
            "\u001b[2K     \u001b[90m━━━━━━━━━━━━━━━━━━━━━━━━━━━━━━━━━━━━━━━━\u001b[0m \u001b[32m81.2/81.2 kB\u001b[0m \u001b[31m7.5 MB/s\u001b[0m eta \u001b[36m0:00:00\u001b[0m\n",
            "\u001b[2K     \u001b[90m━━━━━━━━━━━━━━━━━━━━━━━━━━━━━━━━━━━━━━\u001b[0m \u001b[32m212.2/212.2 kB\u001b[0m \u001b[31m17.9 MB/s\u001b[0m eta \u001b[36m0:00:00\u001b[0m\n",
            "\u001b[2K     \u001b[90m━━━━━━━━━━━━━━━━━━━━━━━━━━━━━━━━━━━━━━\u001b[0m \u001b[32m150.0/150.0 kB\u001b[0m \u001b[31m12.7 MB/s\u001b[0m eta \u001b[36m0:00:00\u001b[0m\n",
            "\u001b[?25h  Preparing metadata (setup.py) ... \u001b[?25l\u001b[?25hdone\n",
            "\u001b[2K     \u001b[90m━━━━━━━━━━━━━━━━━━━━━━━━━━━━━━━━━━━━━━━\u001b[0m \u001b[32m105.8/105.8 kB\u001b[0m \u001b[31m7.0 MB/s\u001b[0m eta \u001b[36m0:00:00\u001b[0m\n",
            "\u001b[2K     \u001b[90m━━━━━━━━━━━━━━━━━━━━━━━━━━━━━━━━━━━━━━━━\u001b[0m \u001b[32m79.9/79.9 MB\u001b[0m \u001b[31m6.3 MB/s\u001b[0m eta \u001b[36m0:00:00\u001b[0m\n",
            "\u001b[2K     \u001b[90m━━━━━━━━━━━━━━━━━━━━━━━━━━━━━━━━━━━━━━━━\u001b[0m \u001b[32m45.8/45.8 kB\u001b[0m \u001b[31m4.1 MB/s\u001b[0m eta \u001b[36m0:00:00\u001b[0m\n",
            "\u001b[?25h  Installing build dependencies ... \u001b[?25l\u001b[?25hdone\n",
            "  Getting requirements to build wheel ... \u001b[?25l\u001b[?25hdone\n",
            "  Preparing metadata (pyproject.toml) ... \u001b[?25l\u001b[?25hdone\n",
            "\u001b[33m  WARNING: Requested plotly-resampler>=0.8.3.1 from https://files.pythonhosted.org/packages/d7/5e/71a9e34a36c1855d0c4e30a88405d58c4bbbe7ece802b188628a643f2cda/plotly_resampler-0.8.4rc1.tar.gz (from pycaret), but installing version 0.8.4rc1\u001b[0m\u001b[33m\n",
            "\u001b[2K     \u001b[90m━━━━━━━━━━━━━━━━━━━━━━━━━━━━━━━━━━━━━━━━\u001b[0m \u001b[32m44.0/44.0 kB\u001b[0m \u001b[31m4.0 MB/s\u001b[0m eta \u001b[36m0:00:00\u001b[0m\n",
            "\u001b[2K     \u001b[90m━━━━━━━━━━━━━━━━━━━━━━━━━━━━━━━━━━━━━━━━\u001b[0m \u001b[32m1.9/1.9 MB\u001b[0m \u001b[31m47.9 MB/s\u001b[0m eta \u001b[36m0:00:00\u001b[0m\n",
            "\u001b[2K     \u001b[90m━━━━━━━━━━━━━━━━━━━━━━━━━━━━━━━━━━━━━━━━\u001b[0m \u001b[32m16.1/16.1 MB\u001b[0m \u001b[31m53.4 MB/s\u001b[0m eta \u001b[36m0:00:00\u001b[0m\n",
            "\u001b[2K     \u001b[90m━━━━━━━━━━━━━━━━━━━━━━━━━━━━━━━━━━━━━━━━\u001b[0m \u001b[32m1.6/1.6 MB\u001b[0m \u001b[31m35.5 MB/s\u001b[0m eta \u001b[36m0:00:00\u001b[0m\n",
            "\u001b[2K     \u001b[90m━━━━━━━━━━━━━━━━━━━━━━━━━━━━━━━━━━━━━━\u001b[0m \u001b[32m224.9/224.9 kB\u001b[0m \u001b[31m18.8 MB/s\u001b[0m eta \u001b[36m0:00:00\u001b[0m\n",
            "\u001b[2K     \u001b[90m━━━━━━━━━━━━━━━━━━━━━━━━━━━━━━━━━━━━━━\u001b[0m \u001b[32m185.2/185.2 kB\u001b[0m \u001b[31m14.8 MB/s\u001b[0m eta \u001b[36m0:00:00\u001b[0m\n",
            "\u001b[2K     \u001b[90m━━━━━━━━━━━━━━━━━━━━━━━━━━━━━━━━━━━━━━━━\u001b[0m \u001b[32m10.2/10.2 MB\u001b[0m \u001b[31m85.8 MB/s\u001b[0m eta \u001b[36m0:00:00\u001b[0m\n",
            "\u001b[2K     \u001b[90m━━━━━━━━━━━━━━━━━━━━━━━━━━━━━━━━━━━━━━\u001b[0m \u001b[32m140.5/140.5 kB\u001b[0m \u001b[31m11.9 MB/s\u001b[0m eta \u001b[36m0:00:00\u001b[0m\n",
            "\u001b[2K     \u001b[90m━━━━━━━━━━━━━━━━━━━━━━━━━━━━━━━━━━━━━━\u001b[0m \u001b[32m101.5/101.5 kB\u001b[0m \u001b[31m10.6 MB/s\u001b[0m eta \u001b[36m0:00:00\u001b[0m\n",
            "\u001b[2K     \u001b[90m━━━━━━━━━━━━━━━━━━━━━━━━━━━━━━━━━━━━━━━\u001b[0m \u001b[32m101.5/101.5 kB\u001b[0m \u001b[31m9.4 MB/s\u001b[0m eta \u001b[36m0:00:00\u001b[0m\n",
            "\u001b[2K     \u001b[90m━━━━━━━━━━━━━━━━━━━━━━━━━━━━━━━━━━━━━━\u001b[0m \u001b[32m101.1/101.1 kB\u001b[0m \u001b[31m10.8 MB/s\u001b[0m eta \u001b[36m0:00:00\u001b[0m\n",
            "\u001b[2K     \u001b[90m━━━━━━━━━━━━━━━━━━━━━━━━━━━━━━━━━━━━━━━━\u001b[0m \u001b[32m95.6/95.6 kB\u001b[0m \u001b[31m10.8 MB/s\u001b[0m eta \u001b[36m0:00:00\u001b[0m\n",
            "\u001b[?25h  Building wheel for plotly-resampler (pyproject.toml) ... \u001b[?25l\u001b[?25hdone\n",
            "  Building wheel for pyod (setup.py) ... \u001b[?25l\u001b[?25hdone\n"
          ]
        }
      ]
    },
    {
      "cell_type": "code",
      "source": [
        "!pip install pycaret[nlp]"
      ],
      "metadata": {
        "execution": {
          "iopub.status.idle": "2023-02-27T18:33:49.935328Z",
          "shell.execute_reply.started": "2023-02-27T18:33:36.250238Z",
          "shell.execute_reply": "2023-02-27T18:33:49.933720Z"
        },
        "trusted": true,
        "id": "bSZvgqJd101r",
        "colab": {
          "base_uri": "https://localhost:8080/"
        },
        "outputId": "cd208228-ad1d-45db-9143-7cccdff433f2"
      },
      "execution_count": 3,
      "outputs": [
        {
          "output_type": "stream",
          "name": "stdout",
          "text": [
            "Looking in indexes: https://pypi.org/simple, https://us-python.pkg.dev/colab-wheels/public/simple/\n",
            "Requirement already satisfied: pycaret[nlp] in /usr/local/lib/python3.9/dist-packages (3.0.0)\n",
            "\u001b[33mWARNING: pycaret 3.0.0 does not provide the extra 'nlp'\u001b[0m\u001b[33m\n",
            "\u001b[0mRequirement already satisfied: lightgbm>=3.0.0 in /usr/local/lib/python3.9/dist-packages (from pycaret[nlp]) (3.3.5)\n",
            "Requirement already satisfied: statsmodels>=0.12.1 in /usr/local/lib/python3.9/dist-packages (from pycaret[nlp]) (0.13.5)\n",
            "Requirement already satisfied: category-encoders>=2.4.0 in /usr/local/lib/python3.9/dist-packages (from pycaret[nlp]) (2.6.0)\n",
            "Requirement already satisfied: plotly-resampler>=0.8.3.1 in /usr/local/lib/python3.9/dist-packages (from pycaret[nlp]) (0.8.4rc1)\n",
            "Requirement already satisfied: xxhash in /usr/local/lib/python3.9/dist-packages (from pycaret[nlp]) (3.2.0)\n",
            "Requirement already satisfied: matplotlib>=3.3.0 in /usr/local/lib/python3.9/dist-packages (from pycaret[nlp]) (3.7.1)\n",
            "Requirement already satisfied: pmdarima!=1.8.1,<3.0.0,>=1.8.0 in /usr/local/lib/python3.9/dist-packages (from pycaret[nlp]) (2.0.3)\n",
            "Requirement already satisfied: ipywidgets>=7.6.5 in /usr/local/lib/python3.9/dist-packages (from pycaret[nlp]) (7.7.1)\n",
            "Requirement already satisfied: pandas<1.6.0,>=1.3.0 in /usr/local/lib/python3.9/dist-packages (from pycaret[nlp]) (1.5.3)\n",
            "Requirement already satisfied: psutil>=5.9.0 in /usr/local/lib/python3.9/dist-packages (from pycaret[nlp]) (5.9.5)\n",
            "Requirement already satisfied: requests>=2.27.1 in /usr/local/lib/python3.9/dist-packages (from pycaret[nlp]) (2.27.1)\n",
            "Requirement already satisfied: pyod>=1.0.8 in /usr/local/lib/python3.9/dist-packages (from pycaret[nlp]) (1.0.9)\n",
            "Requirement already satisfied: nbformat>=4.2.0 in /usr/local/lib/python3.9/dist-packages (from pycaret[nlp]) (5.8.0)\n",
            "Requirement already satisfied: importlib-metadata>=4.12.0 in /usr/local/lib/python3.9/dist-packages (from pycaret[nlp]) (6.4.1)\n",
            "Requirement already satisfied: wurlitzer in /usr/local/lib/python3.9/dist-packages (from pycaret[nlp]) (3.0.3)\n",
            "Requirement already satisfied: cloudpickle in /usr/local/lib/python3.9/dist-packages (from pycaret[nlp]) (2.2.1)\n",
            "Requirement already satisfied: schemdraw>=0.14 in /usr/local/lib/python3.9/dist-packages (from pycaret[nlp]) (0.16)\n",
            "Requirement already satisfied: scikit-learn>=1.0 in /usr/local/lib/python3.9/dist-packages (from pycaret[nlp]) (1.2.2)\n",
            "Requirement already satisfied: sktime>=0.16.1 in /usr/local/lib/python3.9/dist-packages (from pycaret[nlp]) (0.17.1)\n",
            "Requirement already satisfied: joblib>=1.2.0 in /usr/local/lib/python3.9/dist-packages (from pycaret[nlp]) (1.2.0)\n",
            "Requirement already satisfied: tbats>=1.1.0 in /usr/local/lib/python3.9/dist-packages (from pycaret[nlp]) (1.1.3)\n",
            "Requirement already satisfied: plotly>=5.0.0 in /usr/local/lib/python3.9/dist-packages (from pycaret[nlp]) (5.13.1)\n",
            "Requirement already satisfied: numba>=0.55.0 in /usr/local/lib/python3.9/dist-packages (from pycaret[nlp]) (0.56.4)\n",
            "Requirement already satisfied: numpy<1.25,>=1.21 in /usr/local/lib/python3.9/dist-packages (from pycaret[nlp]) (1.22.4)\n",
            "Requirement already satisfied: jinja2>=1.2 in /usr/local/lib/python3.9/dist-packages (from pycaret[nlp]) (3.1.2)\n",
            "Requirement already satisfied: kaleido>=0.2.1 in /usr/local/lib/python3.9/dist-packages (from pycaret[nlp]) (0.2.1)\n",
            "Requirement already satisfied: deprecation>=2.1.0 in /usr/local/lib/python3.9/dist-packages (from pycaret[nlp]) (2.1.0)\n",
            "Requirement already satisfied: imbalanced-learn>=0.8.1 in /usr/local/lib/python3.9/dist-packages (from pycaret[nlp]) (0.10.1)\n",
            "Requirement already satisfied: scikit-plot>=0.3.7 in /usr/local/lib/python3.9/dist-packages (from pycaret[nlp]) (0.3.7)\n",
            "Requirement already satisfied: scipy<2.0.0 in /usr/local/lib/python3.9/dist-packages (from pycaret[nlp]) (1.10.1)\n",
            "Requirement already satisfied: yellowbrick>=1.4 in /usr/local/lib/python3.9/dist-packages (from pycaret[nlp]) (1.5)\n",
            "Requirement already satisfied: ipython>=5.5.0 in /usr/local/lib/python3.9/dist-packages (from pycaret[nlp]) (7.34.0)\n",
            "Requirement already satisfied: tqdm>=4.62.0 in /usr/local/lib/python3.9/dist-packages (from pycaret[nlp]) (4.65.0)\n",
            "Requirement already satisfied: markupsafe>=2.0.1 in /usr/local/lib/python3.9/dist-packages (from pycaret[nlp]) (2.1.2)\n",
            "Requirement already satisfied: patsy>=0.5.1 in /usr/local/lib/python3.9/dist-packages (from category-encoders>=2.4.0->pycaret[nlp]) (0.5.3)\n",
            "Requirement already satisfied: packaging in /usr/local/lib/python3.9/dist-packages (from deprecation>=2.1.0->pycaret[nlp]) (23.1)\n",
            "Requirement already satisfied: threadpoolctl>=2.0.0 in /usr/local/lib/python3.9/dist-packages (from imbalanced-learn>=0.8.1->pycaret[nlp]) (3.1.0)\n",
            "Requirement already satisfied: zipp>=0.5 in /usr/local/lib/python3.9/dist-packages (from importlib-metadata>=4.12.0->pycaret[nlp]) (3.15.0)\n",
            "Requirement already satisfied: setuptools>=18.5 in /usr/local/lib/python3.9/dist-packages (from ipython>=5.5.0->pycaret[nlp]) (67.6.1)\n",
            "Requirement already satisfied: pygments in /usr/local/lib/python3.9/dist-packages (from ipython>=5.5.0->pycaret[nlp]) (2.14.0)\n",
            "Requirement already satisfied: pexpect>4.3 in /usr/local/lib/python3.9/dist-packages (from ipython>=5.5.0->pycaret[nlp]) (4.8.0)\n",
            "Requirement already satisfied: traitlets>=4.2 in /usr/local/lib/python3.9/dist-packages (from ipython>=5.5.0->pycaret[nlp]) (5.7.1)\n",
            "Requirement already satisfied: backcall in /usr/local/lib/python3.9/dist-packages (from ipython>=5.5.0->pycaret[nlp]) (0.2.0)\n",
            "Requirement already satisfied: matplotlib-inline in /usr/local/lib/python3.9/dist-packages (from ipython>=5.5.0->pycaret[nlp]) (0.1.6)\n",
            "Requirement already satisfied: decorator in /usr/local/lib/python3.9/dist-packages (from ipython>=5.5.0->pycaret[nlp]) (4.4.2)\n",
            "Requirement already satisfied: jedi>=0.16 in /usr/local/lib/python3.9/dist-packages (from ipython>=5.5.0->pycaret[nlp]) (0.18.2)\n",
            "Requirement already satisfied: pickleshare in /usr/local/lib/python3.9/dist-packages (from ipython>=5.5.0->pycaret[nlp]) (0.7.5)\n",
            "Requirement already satisfied: prompt-toolkit!=3.0.0,!=3.0.1,<3.1.0,>=2.0.0 in /usr/local/lib/python3.9/dist-packages (from ipython>=5.5.0->pycaret[nlp]) (3.0.38)\n",
            "Requirement already satisfied: ipython-genutils~=0.2.0 in /usr/local/lib/python3.9/dist-packages (from ipywidgets>=7.6.5->pycaret[nlp]) (0.2.0)\n",
            "Requirement already satisfied: jupyterlab-widgets>=1.0.0 in /usr/local/lib/python3.9/dist-packages (from ipywidgets>=7.6.5->pycaret[nlp]) (3.0.7)\n",
            "Requirement already satisfied: widgetsnbextension~=3.6.0 in /usr/local/lib/python3.9/dist-packages (from ipywidgets>=7.6.5->pycaret[nlp]) (3.6.4)\n",
            "Requirement already satisfied: ipykernel>=4.5.1 in /usr/local/lib/python3.9/dist-packages (from ipywidgets>=7.6.5->pycaret[nlp]) (5.5.6)\n",
            "Requirement already satisfied: wheel in /usr/local/lib/python3.9/dist-packages (from lightgbm>=3.0.0->pycaret[nlp]) (0.40.0)\n",
            "Requirement already satisfied: importlib-resources>=3.2.0 in /usr/local/lib/python3.9/dist-packages (from matplotlib>=3.3.0->pycaret[nlp]) (5.12.0)\n",
            "Requirement already satisfied: kiwisolver>=1.0.1 in /usr/local/lib/python3.9/dist-packages (from matplotlib>=3.3.0->pycaret[nlp]) (1.4.4)\n",
            "Requirement already satisfied: pyparsing>=2.3.1 in /usr/local/lib/python3.9/dist-packages (from matplotlib>=3.3.0->pycaret[nlp]) (3.0.9)\n",
            "Requirement already satisfied: python-dateutil>=2.7 in /usr/local/lib/python3.9/dist-packages (from matplotlib>=3.3.0->pycaret[nlp]) (2.8.2)\n",
            "Requirement already satisfied: contourpy>=1.0.1 in /usr/local/lib/python3.9/dist-packages (from matplotlib>=3.3.0->pycaret[nlp]) (1.0.7)\n",
            "Requirement already satisfied: fonttools>=4.22.0 in /usr/local/lib/python3.9/dist-packages (from matplotlib>=3.3.0->pycaret[nlp]) (4.39.3)\n",
            "Requirement already satisfied: pillow>=6.2.0 in /usr/local/lib/python3.9/dist-packages (from matplotlib>=3.3.0->pycaret[nlp]) (8.4.0)\n",
            "Requirement already satisfied: cycler>=0.10 in /usr/local/lib/python3.9/dist-packages (from matplotlib>=3.3.0->pycaret[nlp]) (0.11.0)\n",
            "Requirement already satisfied: jupyter-core in /usr/local/lib/python3.9/dist-packages (from nbformat>=4.2.0->pycaret[nlp]) (5.3.0)\n",
            "Requirement already satisfied: jsonschema>=2.6 in /usr/local/lib/python3.9/dist-packages (from nbformat>=4.2.0->pycaret[nlp]) (4.3.3)\n",
            "Requirement already satisfied: fastjsonschema in /usr/local/lib/python3.9/dist-packages (from nbformat>=4.2.0->pycaret[nlp]) (2.16.3)\n",
            "Requirement already satisfied: llvmlite<0.40,>=0.39.0dev0 in /usr/local/lib/python3.9/dist-packages (from numba>=0.55.0->pycaret[nlp]) (0.39.1)\n",
            "Requirement already satisfied: pytz>=2020.1 in /usr/local/lib/python3.9/dist-packages (from pandas<1.6.0,>=1.3.0->pycaret[nlp]) (2022.7.1)\n",
            "Requirement already satisfied: tenacity>=6.2.0 in /usr/local/lib/python3.9/dist-packages (from plotly>=5.0.0->pycaret[nlp]) (8.2.2)\n",
            "Requirement already satisfied: dash<3.0.0,>=2.2.0 in /usr/local/lib/python3.9/dist-packages (from plotly-resampler>=0.8.3.1->pycaret[nlp]) (2.9.3)\n",
            "Requirement already satisfied: Flask-Cors<4.0.0,>=3.0.10 in /usr/local/lib/python3.9/dist-packages (from plotly-resampler>=0.8.3.1->pycaret[nlp]) (3.0.10)\n",
            "Requirement already satisfied: Werkzeug<=2.1.2 in /usr/local/lib/python3.9/dist-packages (from plotly-resampler>=0.8.3.1->pycaret[nlp]) (2.1.2)\n",
            "Requirement already satisfied: orjson<4.0.0,>=3.8.0 in /usr/local/lib/python3.9/dist-packages (from plotly-resampler>=0.8.3.1->pycaret[nlp]) (3.8.10)\n",
            "Requirement already satisfied: trace-updater>=0.0.8 in /usr/local/lib/python3.9/dist-packages (from plotly-resampler>=0.8.3.1->pycaret[nlp]) (0.0.9.1)\n",
            "Requirement already satisfied: jupyter-dash>=0.4.2 in /usr/local/lib/python3.9/dist-packages (from plotly-resampler>=0.8.3.1->pycaret[nlp]) (0.4.2)\n",
            "Requirement already satisfied: Cython!=0.29.18,!=0.29.31,>=0.29 in /usr/local/lib/python3.9/dist-packages (from pmdarima!=1.8.1,<3.0.0,>=1.8.0->pycaret[nlp]) (0.29.34)\n",
            "Requirement already satisfied: urllib3 in /usr/local/lib/python3.9/dist-packages (from pmdarima!=1.8.1,<3.0.0,>=1.8.0->pycaret[nlp]) (1.26.15)\n",
            "Requirement already satisfied: six in /usr/local/lib/python3.9/dist-packages (from pyod>=1.0.8->pycaret[nlp]) (1.16.0)\n",
            "Requirement already satisfied: charset-normalizer~=2.0.0 in /usr/local/lib/python3.9/dist-packages (from requests>=2.27.1->pycaret[nlp]) (2.0.12)\n",
            "Requirement already satisfied: idna<4,>=2.5 in /usr/local/lib/python3.9/dist-packages (from requests>=2.27.1->pycaret[nlp]) (3.4)\n",
            "Requirement already satisfied: certifi>=2017.4.17 in /usr/local/lib/python3.9/dist-packages (from requests>=2.27.1->pycaret[nlp]) (2022.12.7)\n",
            "Requirement already satisfied: deprecated>=1.2.13 in /usr/local/lib/python3.9/dist-packages (from sktime>=0.16.1->pycaret[nlp]) (1.2.13)\n",
            "Requirement already satisfied: dash-html-components==2.0.0 in /usr/local/lib/python3.9/dist-packages (from dash<3.0.0,>=2.2.0->plotly-resampler>=0.8.3.1->pycaret[nlp]) (2.0.0)\n",
            "Requirement already satisfied: Flask>=1.0.4 in /usr/local/lib/python3.9/dist-packages (from dash<3.0.0,>=2.2.0->plotly-resampler>=0.8.3.1->pycaret[nlp]) (2.1.3)\n",
            "Requirement already satisfied: dash-core-components==2.0.0 in /usr/local/lib/python3.9/dist-packages (from dash<3.0.0,>=2.2.0->plotly-resampler>=0.8.3.1->pycaret[nlp]) (2.0.0)\n",
            "Requirement already satisfied: dash-table==5.0.0 in /usr/local/lib/python3.9/dist-packages (from dash<3.0.0,>=2.2.0->plotly-resampler>=0.8.3.1->pycaret[nlp]) (5.0.0)\n",
            "Requirement already satisfied: wrapt<2,>=1.10 in /usr/local/lib/python3.9/dist-packages (from deprecated>=1.2.13->sktime>=0.16.1->pycaret[nlp]) (1.14.1)\n",
            "Requirement already satisfied: tornado>=4.2 in /usr/local/lib/python3.9/dist-packages (from ipykernel>=4.5.1->ipywidgets>=7.6.5->pycaret[nlp]) (6.2)\n",
            "Requirement already satisfied: jupyter-client in /usr/local/lib/python3.9/dist-packages (from ipykernel>=4.5.1->ipywidgets>=7.6.5->pycaret[nlp]) (6.1.12)\n",
            "Requirement already satisfied: parso<0.9.0,>=0.8.0 in /usr/local/lib/python3.9/dist-packages (from jedi>=0.16->ipython>=5.5.0->pycaret[nlp]) (0.8.3)\n",
            "Requirement already satisfied: pyrsistent!=0.17.0,!=0.17.1,!=0.17.2,>=0.14.0 in /usr/local/lib/python3.9/dist-packages (from jsonschema>=2.6->nbformat>=4.2.0->pycaret[nlp]) (0.19.3)\n",
            "Requirement already satisfied: attrs>=17.4.0 in /usr/local/lib/python3.9/dist-packages (from jsonschema>=2.6->nbformat>=4.2.0->pycaret[nlp]) (23.1.0)\n",
            "Requirement already satisfied: nest-asyncio in /usr/local/lib/python3.9/dist-packages (from jupyter-dash>=0.4.2->plotly-resampler>=0.8.3.1->pycaret[nlp]) (1.5.6)\n",
            "Requirement already satisfied: ansi2html in /usr/local/lib/python3.9/dist-packages (from jupyter-dash>=0.4.2->plotly-resampler>=0.8.3.1->pycaret[nlp]) (1.9.0rc1)\n",
            "Requirement already satisfied: retrying in /usr/local/lib/python3.9/dist-packages (from jupyter-dash>=0.4.2->plotly-resampler>=0.8.3.1->pycaret[nlp]) (1.3.4)\n",
            "Requirement already satisfied: ptyprocess>=0.5 in /usr/local/lib/python3.9/dist-packages (from pexpect>4.3->ipython>=5.5.0->pycaret[nlp]) (0.7.0)\n",
            "Requirement already satisfied: wcwidth in /usr/local/lib/python3.9/dist-packages (from prompt-toolkit!=3.0.0,!=3.0.1,<3.1.0,>=2.0.0->ipython>=5.5.0->pycaret[nlp]) (0.2.6)\n",
            "Requirement already satisfied: notebook>=4.4.1 in /usr/local/lib/python3.9/dist-packages (from widgetsnbextension~=3.6.0->ipywidgets>=7.6.5->pycaret[nlp]) (6.4.8)\n",
            "Requirement already satisfied: platformdirs>=2.5 in /usr/local/lib/python3.9/dist-packages (from jupyter-core->nbformat>=4.2.0->pycaret[nlp]) (3.2.0)\n",
            "Requirement already satisfied: itsdangerous>=2.0 in /usr/local/lib/python3.9/dist-packages (from Flask>=1.0.4->dash<3.0.0,>=2.2.0->plotly-resampler>=0.8.3.1->pycaret[nlp]) (2.1.2)\n",
            "Requirement already satisfied: click>=8.0 in /usr/local/lib/python3.9/dist-packages (from Flask>=1.0.4->dash<3.0.0,>=2.2.0->plotly-resampler>=0.8.3.1->pycaret[nlp]) (8.1.3)\n",
            "Requirement already satisfied: Send2Trash>=1.8.0 in /usr/local/lib/python3.9/dist-packages (from notebook>=4.4.1->widgetsnbextension~=3.6.0->ipywidgets>=7.6.5->pycaret[nlp]) (1.8.0)\n",
            "Requirement already satisfied: prometheus-client in /usr/local/lib/python3.9/dist-packages (from notebook>=4.4.1->widgetsnbextension~=3.6.0->ipywidgets>=7.6.5->pycaret[nlp]) (0.16.0)\n",
            "Requirement already satisfied: argon2-cffi in /usr/local/lib/python3.9/dist-packages (from notebook>=4.4.1->widgetsnbextension~=3.6.0->ipywidgets>=7.6.5->pycaret[nlp]) (21.3.0)\n",
            "Requirement already satisfied: nbconvert in /usr/local/lib/python3.9/dist-packages (from notebook>=4.4.1->widgetsnbextension~=3.6.0->ipywidgets>=7.6.5->pycaret[nlp]) (6.5.4)\n",
            "Requirement already satisfied: terminado>=0.8.3 in /usr/local/lib/python3.9/dist-packages (from notebook>=4.4.1->widgetsnbextension~=3.6.0->ipywidgets>=7.6.5->pycaret[nlp]) (0.17.1)\n",
            "Requirement already satisfied: pyzmq>=17 in /usr/local/lib/python3.9/dist-packages (from notebook>=4.4.1->widgetsnbextension~=3.6.0->ipywidgets>=7.6.5->pycaret[nlp]) (23.2.1)\n",
            "Requirement already satisfied: argon2-cffi-bindings in /usr/local/lib/python3.9/dist-packages (from argon2-cffi->notebook>=4.4.1->widgetsnbextension~=3.6.0->ipywidgets>=7.6.5->pycaret[nlp]) (21.2.0)\n",
            "Requirement already satisfied: tinycss2 in /usr/local/lib/python3.9/dist-packages (from nbconvert->notebook>=4.4.1->widgetsnbextension~=3.6.0->ipywidgets>=7.6.5->pycaret[nlp]) (1.2.1)\n",
            "Requirement already satisfied: pandocfilters>=1.4.1 in /usr/local/lib/python3.9/dist-packages (from nbconvert->notebook>=4.4.1->widgetsnbextension~=3.6.0->ipywidgets>=7.6.5->pycaret[nlp]) (1.5.0)\n",
            "Requirement already satisfied: lxml in /usr/local/lib/python3.9/dist-packages (from nbconvert->notebook>=4.4.1->widgetsnbextension~=3.6.0->ipywidgets>=7.6.5->pycaret[nlp]) (4.9.2)\n",
            "Requirement already satisfied: beautifulsoup4 in /usr/local/lib/python3.9/dist-packages (from nbconvert->notebook>=4.4.1->widgetsnbextension~=3.6.0->ipywidgets>=7.6.5->pycaret[nlp]) (4.11.2)\n",
            "Requirement already satisfied: mistune<2,>=0.8.1 in /usr/local/lib/python3.9/dist-packages (from nbconvert->notebook>=4.4.1->widgetsnbextension~=3.6.0->ipywidgets>=7.6.5->pycaret[nlp]) (0.8.4)\n",
            "Requirement already satisfied: jupyterlab-pygments in /usr/local/lib/python3.9/dist-packages (from nbconvert->notebook>=4.4.1->widgetsnbextension~=3.6.0->ipywidgets>=7.6.5->pycaret[nlp]) (0.2.2)\n",
            "Requirement already satisfied: bleach in /usr/local/lib/python3.9/dist-packages (from nbconvert->notebook>=4.4.1->widgetsnbextension~=3.6.0->ipywidgets>=7.6.5->pycaret[nlp]) (6.0.0)\n",
            "Requirement already satisfied: defusedxml in /usr/local/lib/python3.9/dist-packages (from nbconvert->notebook>=4.4.1->widgetsnbextension~=3.6.0->ipywidgets>=7.6.5->pycaret[nlp]) (0.7.1)\n",
            "Requirement already satisfied: entrypoints>=0.2.2 in /usr/local/lib/python3.9/dist-packages (from nbconvert->notebook>=4.4.1->widgetsnbextension~=3.6.0->ipywidgets>=7.6.5->pycaret[nlp]) (0.4)\n",
            "Requirement already satisfied: nbclient>=0.5.0 in /usr/local/lib/python3.9/dist-packages (from nbconvert->notebook>=4.4.1->widgetsnbextension~=3.6.0->ipywidgets>=7.6.5->pycaret[nlp]) (0.7.3)\n",
            "Requirement already satisfied: cffi>=1.0.1 in /usr/local/lib/python3.9/dist-packages (from argon2-cffi-bindings->argon2-cffi->notebook>=4.4.1->widgetsnbextension~=3.6.0->ipywidgets>=7.6.5->pycaret[nlp]) (1.15.1)\n",
            "Requirement already satisfied: soupsieve>1.2 in /usr/local/lib/python3.9/dist-packages (from beautifulsoup4->nbconvert->notebook>=4.4.1->widgetsnbextension~=3.6.0->ipywidgets>=7.6.5->pycaret[nlp]) (2.4.1)\n",
            "Requirement already satisfied: webencodings in /usr/local/lib/python3.9/dist-packages (from bleach->nbconvert->notebook>=4.4.1->widgetsnbextension~=3.6.0->ipywidgets>=7.6.5->pycaret[nlp]) (0.5.1)\n",
            "Requirement already satisfied: pycparser in /usr/local/lib/python3.9/dist-packages (from cffi>=1.0.1->argon2-cffi-bindings->argon2-cffi->notebook>=4.4.1->widgetsnbextension~=3.6.0->ipywidgets>=7.6.5->pycaret[nlp]) (2.21)\n"
          ]
        }
      ]
    },
    {
      "cell_type": "markdown",
      "source": [
        "# Imports"
      ],
      "metadata": {
        "id": "0Q4LlgsK101r"
      }
    },
    {
      "cell_type": "code",
      "source": [
        "import pandas as pd\n",
        "import matplotlib.pyplot as plt\n",
        "\n",
        "from collections import Counter\n",
        "import re\n",
        "\n",
        "from sklearn.model_selection import train_test_split\n",
        "\n",
        "from imblearn.over_sampling import SMOTE\n",
        "\n",
        "import string\n",
        "\n",
        "import spacy\n",
        "from tqdm.auto import tqdm\n",
        "import time\n",
        "import os"
      ],
      "metadata": {
        "execution": {
          "iopub.status.busy": "2023-02-27T18:04:24.199428Z",
          "iopub.execute_input": "2023-02-27T18:04:24.200087Z",
          "iopub.status.idle": "2023-02-27T18:04:43.509390Z",
          "shell.execute_reply.started": "2023-02-27T18:04:24.200036Z",
          "shell.execute_reply": "2023-02-27T18:04:43.507968Z"
        },
        "trusted": true,
        "id": "QjHa-BMK101s"
      },
      "execution_count": 4,
      "outputs": []
    },
    {
      "cell_type": "markdown",
      "source": [
        "# Data Loading"
      ],
      "metadata": {
        "id": "_5ejqbPa101t"
      }
    },
    {
      "cell_type": "code",
      "source": [
        "data =pd.read_csv(\"/content/drive/MyDrive/marrakech_hotels_reviews.csv\")\n",
        "data = data[['Review_Text','Review_Rating']]\n",
        "# Mapping the review rating values to new values\n",
        "rating_map = {50: 5, 40: 4, 30: 3, 20: 2, 10: 1}\n",
        "data['Review_Rating'] = data['Review_Rating'].replace(rating_map)\n",
        "data.columns = ['Review', 'Rating']\n",
        "# remove duplicates based on \"review\" column\n",
        "data = data.drop_duplicates(subset='Review', keep='first')"
      ],
      "metadata": {
        "execution": {
          "iopub.status.busy": "2023-02-27T18:05:07.580519Z",
          "iopub.execute_input": "2023-02-27T18:05:07.580947Z",
          "iopub.status.idle": "2023-02-27T18:05:08.044137Z",
          "shell.execute_reply.started": "2023-02-27T18:05:07.580909Z",
          "shell.execute_reply": "2023-02-27T18:05:08.042765Z"
        },
        "trusted": true,
        "id": "0TMdr4YB101t"
      },
      "execution_count": 5,
      "outputs": []
    },
    {
      "cell_type": "code",
      "source": [
        "data.head()"
      ],
      "metadata": {
        "execution": {
          "iopub.status.busy": "2023-02-27T18:05:08.222736Z",
          "iopub.execute_input": "2023-02-27T18:05:08.223146Z",
          "iopub.status.idle": "2023-02-27T18:05:08.257792Z",
          "shell.execute_reply.started": "2023-02-27T18:05:08.223109Z",
          "shell.execute_reply": "2023-02-27T18:05:08.256384Z"
        },
        "trusted": true,
        "colab": {
          "base_uri": "https://localhost:8080/",
          "height": 206
        },
        "id": "tb0_Alml101u",
        "outputId": "20f36f6c-c77b-4ea2-e684-44dfdb3ef54d"
      },
      "execution_count": 6,
      "outputs": [
        {
          "output_type": "execute_result",
          "data": {
            "text/plain": [
              "                                              Review  Rating\n",
              "0  I honestly couldn't fault Riad 72. The staff a...       5\n",
              "1  We stayed for four nights at 72 Riad Living (w...       5\n",
              "2  With a superb location it felt like an oasis a...       4\n",
              "3  Beautifully designed Riad and perfect setting ...       5\n",
              "4  Wow just simply delightful from the super tran...       5"
            ],
            "text/html": [
              "\n",
              "  <div id=\"df-eb48bc5a-fe77-497d-b5b7-baf4f5936b92\">\n",
              "    <div class=\"colab-df-container\">\n",
              "      <div>\n",
              "<style scoped>\n",
              "    .dataframe tbody tr th:only-of-type {\n",
              "        vertical-align: middle;\n",
              "    }\n",
              "\n",
              "    .dataframe tbody tr th {\n",
              "        vertical-align: top;\n",
              "    }\n",
              "\n",
              "    .dataframe thead th {\n",
              "        text-align: right;\n",
              "    }\n",
              "</style>\n",
              "<table border=\"1\" class=\"dataframe\">\n",
              "  <thead>\n",
              "    <tr style=\"text-align: right;\">\n",
              "      <th></th>\n",
              "      <th>Review</th>\n",
              "      <th>Rating</th>\n",
              "    </tr>\n",
              "  </thead>\n",
              "  <tbody>\n",
              "    <tr>\n",
              "      <th>0</th>\n",
              "      <td>I honestly couldn't fault Riad 72. The staff a...</td>\n",
              "      <td>5</td>\n",
              "    </tr>\n",
              "    <tr>\n",
              "      <th>1</th>\n",
              "      <td>We stayed for four nights at 72 Riad Living (w...</td>\n",
              "      <td>5</td>\n",
              "    </tr>\n",
              "    <tr>\n",
              "      <th>2</th>\n",
              "      <td>With a superb location it felt like an oasis a...</td>\n",
              "      <td>4</td>\n",
              "    </tr>\n",
              "    <tr>\n",
              "      <th>3</th>\n",
              "      <td>Beautifully designed Riad and perfect setting ...</td>\n",
              "      <td>5</td>\n",
              "    </tr>\n",
              "    <tr>\n",
              "      <th>4</th>\n",
              "      <td>Wow just simply delightful from the super tran...</td>\n",
              "      <td>5</td>\n",
              "    </tr>\n",
              "  </tbody>\n",
              "</table>\n",
              "</div>\n",
              "      <button class=\"colab-df-convert\" onclick=\"convertToInteractive('df-eb48bc5a-fe77-497d-b5b7-baf4f5936b92')\"\n",
              "              title=\"Convert this dataframe to an interactive table.\"\n",
              "              style=\"display:none;\">\n",
              "        \n",
              "  <svg xmlns=\"http://www.w3.org/2000/svg\" height=\"24px\"viewBox=\"0 0 24 24\"\n",
              "       width=\"24px\">\n",
              "    <path d=\"M0 0h24v24H0V0z\" fill=\"none\"/>\n",
              "    <path d=\"M18.56 5.44l.94 2.06.94-2.06 2.06-.94-2.06-.94-.94-2.06-.94 2.06-2.06.94zm-11 1L8.5 8.5l.94-2.06 2.06-.94-2.06-.94L8.5 2.5l-.94 2.06-2.06.94zm10 10l.94 2.06.94-2.06 2.06-.94-2.06-.94-.94-2.06-.94 2.06-2.06.94z\"/><path d=\"M17.41 7.96l-1.37-1.37c-.4-.4-.92-.59-1.43-.59-.52 0-1.04.2-1.43.59L10.3 9.45l-7.72 7.72c-.78.78-.78 2.05 0 2.83L4 21.41c.39.39.9.59 1.41.59.51 0 1.02-.2 1.41-.59l7.78-7.78 2.81-2.81c.8-.78.8-2.07 0-2.86zM5.41 20L4 18.59l7.72-7.72 1.47 1.35L5.41 20z\"/>\n",
              "  </svg>\n",
              "      </button>\n",
              "      \n",
              "  <style>\n",
              "    .colab-df-container {\n",
              "      display:flex;\n",
              "      flex-wrap:wrap;\n",
              "      gap: 12px;\n",
              "    }\n",
              "\n",
              "    .colab-df-convert {\n",
              "      background-color: #E8F0FE;\n",
              "      border: none;\n",
              "      border-radius: 50%;\n",
              "      cursor: pointer;\n",
              "      display: none;\n",
              "      fill: #1967D2;\n",
              "      height: 32px;\n",
              "      padding: 0 0 0 0;\n",
              "      width: 32px;\n",
              "    }\n",
              "\n",
              "    .colab-df-convert:hover {\n",
              "      background-color: #E2EBFA;\n",
              "      box-shadow: 0px 1px 2px rgba(60, 64, 67, 0.3), 0px 1px 3px 1px rgba(60, 64, 67, 0.15);\n",
              "      fill: #174EA6;\n",
              "    }\n",
              "\n",
              "    [theme=dark] .colab-df-convert {\n",
              "      background-color: #3B4455;\n",
              "      fill: #D2E3FC;\n",
              "    }\n",
              "\n",
              "    [theme=dark] .colab-df-convert:hover {\n",
              "      background-color: #434B5C;\n",
              "      box-shadow: 0px 1px 3px 1px rgba(0, 0, 0, 0.15);\n",
              "      filter: drop-shadow(0px 1px 2px rgba(0, 0, 0, 0.3));\n",
              "      fill: #FFFFFF;\n",
              "    }\n",
              "  </style>\n",
              "\n",
              "      <script>\n",
              "        const buttonEl =\n",
              "          document.querySelector('#df-eb48bc5a-fe77-497d-b5b7-baf4f5936b92 button.colab-df-convert');\n",
              "        buttonEl.style.display =\n",
              "          google.colab.kernel.accessAllowed ? 'block' : 'none';\n",
              "\n",
              "        async function convertToInteractive(key) {\n",
              "          const element = document.querySelector('#df-eb48bc5a-fe77-497d-b5b7-baf4f5936b92');\n",
              "          const dataTable =\n",
              "            await google.colab.kernel.invokeFunction('convertToInteractive',\n",
              "                                                     [key], {});\n",
              "          if (!dataTable) return;\n",
              "\n",
              "          const docLinkHtml = 'Like what you see? Visit the ' +\n",
              "            '<a target=\"_blank\" href=https://colab.research.google.com/notebooks/data_table.ipynb>data table notebook</a>'\n",
              "            + ' to learn more about interactive tables.';\n",
              "          element.innerHTML = '';\n",
              "          dataTable['output_type'] = 'display_data';\n",
              "          await google.colab.output.renderOutput(dataTable, element);\n",
              "          const docLink = document.createElement('div');\n",
              "          docLink.innerHTML = docLinkHtml;\n",
              "          element.appendChild(docLink);\n",
              "        }\n",
              "      </script>\n",
              "    </div>\n",
              "  </div>\n",
              "  "
            ]
          },
          "metadata": {},
          "execution_count": 6
        }
      ]
    },
    {
      "cell_type": "code",
      "source": [
        "data.tail()"
      ],
      "metadata": {
        "execution": {
          "iopub.status.busy": "2023-02-27T18:06:21.388912Z",
          "iopub.execute_input": "2023-02-27T18:06:21.389347Z",
          "iopub.status.idle": "2023-02-27T18:06:21.401738Z",
          "shell.execute_reply.started": "2023-02-27T18:06:21.389309Z",
          "shell.execute_reply": "2023-02-27T18:06:21.400244Z"
        },
        "trusted": true,
        "colab": {
          "base_uri": "https://localhost:8080/",
          "height": 206
        },
        "id": "s1TXKRmK101u",
        "outputId": "4709240c-9894-4fc6-c26a-89e0a5865674"
      },
      "execution_count": 7,
      "outputs": [
        {
          "output_type": "execute_result",
          "data": {
            "text/plain": [
              "                                                  Review  Rating\n",
              "55363  The hotel was the highlight of our stay. It is...       5\n",
              "55364  Art Deco meets Marrakech....who would imagine!...       5\n",
              "55365  I insisted on going to Marrakesh - it was my 3...       5\n",
              "55366  We were whisked from the airport by Jaguar in ...       5\n",
              "55367  My husband and I chose Marrakech as a weekend ...       5"
            ],
            "text/html": [
              "\n",
              "  <div id=\"df-a0e71846-2de9-48ea-980e-6fc06a0a4ae2\">\n",
              "    <div class=\"colab-df-container\">\n",
              "      <div>\n",
              "<style scoped>\n",
              "    .dataframe tbody tr th:only-of-type {\n",
              "        vertical-align: middle;\n",
              "    }\n",
              "\n",
              "    .dataframe tbody tr th {\n",
              "        vertical-align: top;\n",
              "    }\n",
              "\n",
              "    .dataframe thead th {\n",
              "        text-align: right;\n",
              "    }\n",
              "</style>\n",
              "<table border=\"1\" class=\"dataframe\">\n",
              "  <thead>\n",
              "    <tr style=\"text-align: right;\">\n",
              "      <th></th>\n",
              "      <th>Review</th>\n",
              "      <th>Rating</th>\n",
              "    </tr>\n",
              "  </thead>\n",
              "  <tbody>\n",
              "    <tr>\n",
              "      <th>55363</th>\n",
              "      <td>The hotel was the highlight of our stay. It is...</td>\n",
              "      <td>5</td>\n",
              "    </tr>\n",
              "    <tr>\n",
              "      <th>55364</th>\n",
              "      <td>Art Deco meets Marrakech....who would imagine!...</td>\n",
              "      <td>5</td>\n",
              "    </tr>\n",
              "    <tr>\n",
              "      <th>55365</th>\n",
              "      <td>I insisted on going to Marrakesh - it was my 3...</td>\n",
              "      <td>5</td>\n",
              "    </tr>\n",
              "    <tr>\n",
              "      <th>55366</th>\n",
              "      <td>We were whisked from the airport by Jaguar in ...</td>\n",
              "      <td>5</td>\n",
              "    </tr>\n",
              "    <tr>\n",
              "      <th>55367</th>\n",
              "      <td>My husband and I chose Marrakech as a weekend ...</td>\n",
              "      <td>5</td>\n",
              "    </tr>\n",
              "  </tbody>\n",
              "</table>\n",
              "</div>\n",
              "      <button class=\"colab-df-convert\" onclick=\"convertToInteractive('df-a0e71846-2de9-48ea-980e-6fc06a0a4ae2')\"\n",
              "              title=\"Convert this dataframe to an interactive table.\"\n",
              "              style=\"display:none;\">\n",
              "        \n",
              "  <svg xmlns=\"http://www.w3.org/2000/svg\" height=\"24px\"viewBox=\"0 0 24 24\"\n",
              "       width=\"24px\">\n",
              "    <path d=\"M0 0h24v24H0V0z\" fill=\"none\"/>\n",
              "    <path d=\"M18.56 5.44l.94 2.06.94-2.06 2.06-.94-2.06-.94-.94-2.06-.94 2.06-2.06.94zm-11 1L8.5 8.5l.94-2.06 2.06-.94-2.06-.94L8.5 2.5l-.94 2.06-2.06.94zm10 10l.94 2.06.94-2.06 2.06-.94-2.06-.94-.94-2.06-.94 2.06-2.06.94z\"/><path d=\"M17.41 7.96l-1.37-1.37c-.4-.4-.92-.59-1.43-.59-.52 0-1.04.2-1.43.59L10.3 9.45l-7.72 7.72c-.78.78-.78 2.05 0 2.83L4 21.41c.39.39.9.59 1.41.59.51 0 1.02-.2 1.41-.59l7.78-7.78 2.81-2.81c.8-.78.8-2.07 0-2.86zM5.41 20L4 18.59l7.72-7.72 1.47 1.35L5.41 20z\"/>\n",
              "  </svg>\n",
              "      </button>\n",
              "      \n",
              "  <style>\n",
              "    .colab-df-container {\n",
              "      display:flex;\n",
              "      flex-wrap:wrap;\n",
              "      gap: 12px;\n",
              "    }\n",
              "\n",
              "    .colab-df-convert {\n",
              "      background-color: #E8F0FE;\n",
              "      border: none;\n",
              "      border-radius: 50%;\n",
              "      cursor: pointer;\n",
              "      display: none;\n",
              "      fill: #1967D2;\n",
              "      height: 32px;\n",
              "      padding: 0 0 0 0;\n",
              "      width: 32px;\n",
              "    }\n",
              "\n",
              "    .colab-df-convert:hover {\n",
              "      background-color: #E2EBFA;\n",
              "      box-shadow: 0px 1px 2px rgba(60, 64, 67, 0.3), 0px 1px 3px 1px rgba(60, 64, 67, 0.15);\n",
              "      fill: #174EA6;\n",
              "    }\n",
              "\n",
              "    [theme=dark] .colab-df-convert {\n",
              "      background-color: #3B4455;\n",
              "      fill: #D2E3FC;\n",
              "    }\n",
              "\n",
              "    [theme=dark] .colab-df-convert:hover {\n",
              "      background-color: #434B5C;\n",
              "      box-shadow: 0px 1px 3px 1px rgba(0, 0, 0, 0.15);\n",
              "      filter: drop-shadow(0px 1px 2px rgba(0, 0, 0, 0.3));\n",
              "      fill: #FFFFFF;\n",
              "    }\n",
              "  </style>\n",
              "\n",
              "      <script>\n",
              "        const buttonEl =\n",
              "          document.querySelector('#df-a0e71846-2de9-48ea-980e-6fc06a0a4ae2 button.colab-df-convert');\n",
              "        buttonEl.style.display =\n",
              "          google.colab.kernel.accessAllowed ? 'block' : 'none';\n",
              "\n",
              "        async function convertToInteractive(key) {\n",
              "          const element = document.querySelector('#df-a0e71846-2de9-48ea-980e-6fc06a0a4ae2');\n",
              "          const dataTable =\n",
              "            await google.colab.kernel.invokeFunction('convertToInteractive',\n",
              "                                                     [key], {});\n",
              "          if (!dataTable) return;\n",
              "\n",
              "          const docLinkHtml = 'Like what you see? Visit the ' +\n",
              "            '<a target=\"_blank\" href=https://colab.research.google.com/notebooks/data_table.ipynb>data table notebook</a>'\n",
              "            + ' to learn more about interactive tables.';\n",
              "          element.innerHTML = '';\n",
              "          dataTable['output_type'] = 'display_data';\n",
              "          await google.colab.output.renderOutput(dataTable, element);\n",
              "          const docLink = document.createElement('div');\n",
              "          docLink.innerHTML = docLinkHtml;\n",
              "          element.appendChild(docLink);\n",
              "        }\n",
              "      </script>\n",
              "    </div>\n",
              "  </div>\n",
              "  "
            ]
          },
          "metadata": {},
          "execution_count": 7
        }
      ]
    },
    {
      "cell_type": "code",
      "source": [
        "import numpy as np\n",
        "# filter rows with rating of 5\n",
        "mask_5 = data['Rating'] == 5\n",
        "mask_4 = data['Rating'] == 4\n",
        "\n",
        "# randomly remove 5000 rows with rating of 5\n",
        "remove_indices_5 = np.random.choice(data[mask_5].index, size=26498, replace=False)\n",
        "remove_indices_4 = np.random.choice(data[mask_4].index, size=6000, replace=False)\n",
        "data = data.drop(remove_indices_5)\n",
        "data = data.drop(remove_indices_4)"
      ],
      "metadata": {
        "id": "MtN-0Zul3nMZ"
      },
      "execution_count": 8,
      "outputs": []
    },
    {
      "cell_type": "code",
      "source": [
        "len(data)"
      ],
      "metadata": {
        "colab": {
          "base_uri": "https://localhost:8080/"
        },
        "id": "qqvn_G3T3TCS",
        "outputId": "975259d0-ba70-4436-cfe2-f31f9d12dcfb"
      },
      "execution_count": 9,
      "outputs": [
        {
          "output_type": "execute_result",
          "data": {
            "text/plain": [
              "20000"
            ]
          },
          "metadata": {},
          "execution_count": 9
        }
      ]
    },
    {
      "cell_type": "code",
      "source": [],
      "metadata": {
        "id": "OVvMY6am3S43"
      },
      "execution_count": 9,
      "outputs": []
    },
    {
      "cell_type": "markdown",
      "source": [
        "# EDA"
      ],
      "metadata": {
        "id": "ph6aC3UN101v"
      }
    },
    {
      "cell_type": "markdown",
      "source": [
        "# Handling Null Values"
      ],
      "metadata": {
        "id": "KMGfIV1y101v"
      }
    },
    {
      "cell_type": "code",
      "source": [
        "data.isna().any()"
      ],
      "metadata": {
        "execution": {
          "iopub.status.busy": "2023-02-27T18:06:36.102078Z",
          "iopub.execute_input": "2023-02-27T18:06:36.102495Z",
          "iopub.status.idle": "2023-02-27T18:06:36.117762Z",
          "shell.execute_reply.started": "2023-02-27T18:06:36.102458Z",
          "shell.execute_reply": "2023-02-27T18:06:36.116398Z"
        },
        "trusted": true,
        "colab": {
          "base_uri": "https://localhost:8080/"
        },
        "id": "p72LH0Gn101v",
        "outputId": "454b8bd7-ae21-48c9-d1f1-2e8ebb5da075"
      },
      "execution_count": 10,
      "outputs": [
        {
          "output_type": "execute_result",
          "data": {
            "text/plain": [
              "Review    False\n",
              "Rating    False\n",
              "dtype: bool"
            ]
          },
          "metadata": {},
          "execution_count": 10
        }
      ]
    },
    {
      "cell_type": "code",
      "source": [
        "data.isna().sum()"
      ],
      "metadata": {
        "execution": {
          "iopub.status.busy": "2023-02-27T18:06:57.318033Z",
          "iopub.execute_input": "2023-02-27T18:06:57.318530Z",
          "iopub.status.idle": "2023-02-27T18:06:57.332327Z",
          "shell.execute_reply.started": "2023-02-27T18:06:57.318484Z",
          "shell.execute_reply": "2023-02-27T18:06:57.330941Z"
        },
        "trusted": true,
        "colab": {
          "base_uri": "https://localhost:8080/"
        },
        "id": "2TAdt57Y101w",
        "outputId": "71fbb970-3668-4dc2-f8af-b01f1fef1a4d"
      },
      "execution_count": 11,
      "outputs": [
        {
          "output_type": "execute_result",
          "data": {
            "text/plain": [
              "Review    0\n",
              "Rating    0\n",
              "dtype: int64"
            ]
          },
          "metadata": {},
          "execution_count": 11
        }
      ]
    },
    {
      "cell_type": "code",
      "source": [
        "data.shape"
      ],
      "metadata": {
        "execution": {
          "iopub.status.busy": "2023-02-27T18:07:02.894942Z",
          "iopub.execute_input": "2023-02-27T18:07:02.895488Z",
          "iopub.status.idle": "2023-02-27T18:07:02.904136Z",
          "shell.execute_reply.started": "2023-02-27T18:07:02.895433Z",
          "shell.execute_reply": "2023-02-27T18:07:02.902838Z"
        },
        "trusted": true,
        "colab": {
          "base_uri": "https://localhost:8080/"
        },
        "id": "SHtSa5QQ101w",
        "outputId": "0dae4829-28ff-437a-d2c3-b782c1bcfd53"
      },
      "execution_count": 12,
      "outputs": [
        {
          "output_type": "execute_result",
          "data": {
            "text/plain": [
              "(20000, 2)"
            ]
          },
          "metadata": {},
          "execution_count": 12
        }
      ]
    },
    {
      "cell_type": "markdown",
      "source": [
        "# Handling Duplicate Values"
      ],
      "metadata": {
        "id": "i65tTOP3101x"
      }
    },
    {
      "cell_type": "code",
      "source": [
        "data.nunique().any()"
      ],
      "metadata": {
        "execution": {
          "iopub.status.busy": "2023-02-27T18:11:58.251716Z",
          "iopub.execute_input": "2023-02-27T18:11:58.252913Z",
          "iopub.status.idle": "2023-02-27T18:11:58.309538Z",
          "shell.execute_reply.started": "2023-02-27T18:11:58.252854Z",
          "shell.execute_reply": "2023-02-27T18:11:58.308005Z"
        },
        "trusted": true,
        "colab": {
          "base_uri": "https://localhost:8080/"
        },
        "id": "7s7W0HgN101x",
        "outputId": "502a5d36-5ae2-4bda-d416-8a3d617d185a"
      },
      "execution_count": 13,
      "outputs": [
        {
          "output_type": "execute_result",
          "data": {
            "text/plain": [
              "True"
            ]
          },
          "metadata": {},
          "execution_count": 13
        }
      ]
    },
    {
      "cell_type": "code",
      "source": [
        "data.nunique()"
      ],
      "metadata": {
        "execution": {
          "iopub.status.busy": "2023-02-27T18:07:17.619033Z",
          "iopub.execute_input": "2023-02-27T18:07:17.619446Z",
          "iopub.status.idle": "2023-02-27T18:07:17.686856Z",
          "shell.execute_reply.started": "2023-02-27T18:07:17.619410Z",
          "shell.execute_reply": "2023-02-27T18:07:17.685889Z"
        },
        "trusted": true,
        "colab": {
          "base_uri": "https://localhost:8080/"
        },
        "id": "8vpqjhMO101y",
        "outputId": "803eea72-0526-4825-87d2-8a68bbda77f2"
      },
      "execution_count": 14,
      "outputs": [
        {
          "output_type": "execute_result",
          "data": {
            "text/plain": [
              "Review    20000\n",
              "Rating        5\n",
              "dtype: int64"
            ]
          },
          "metadata": {},
          "execution_count": 14
        }
      ]
    },
    {
      "cell_type": "markdown",
      "source": [
        "# Preprocessing the Text"
      ],
      "metadata": {
        "id": "qGVGa1qu101y"
      }
    },
    {
      "cell_type": "code",
      "source": [
        "# Load the English NLP model\n",
        "nlp = spacy.load('en_core_web_sm')\n",
        "\n",
        "# Define stop words\n",
        "stop_words = spacy.lang.en.stop_words.STOP_WORDS"
      ],
      "metadata": {
        "execution": {
          "iopub.status.busy": "2023-02-27T18:15:05.648946Z",
          "iopub.execute_input": "2023-02-27T18:15:05.649446Z",
          "iopub.status.idle": "2023-02-27T18:15:06.575361Z",
          "shell.execute_reply.started": "2023-02-27T18:15:05.649395Z",
          "shell.execute_reply": "2023-02-27T18:15:06.574026Z"
        },
        "trusted": true,
        "id": "9qs35s26101y"
      },
      "execution_count": 15,
      "outputs": []
    },
    {
      "cell_type": "code",
      "source": [
        "nlp"
      ],
      "metadata": {
        "execution": {
          "iopub.status.busy": "2023-02-27T18:15:08.970613Z",
          "iopub.execute_input": "2023-02-27T18:15:08.971021Z",
          "iopub.status.idle": "2023-02-27T18:15:08.980111Z",
          "shell.execute_reply.started": "2023-02-27T18:15:08.970985Z",
          "shell.execute_reply": "2023-02-27T18:15:08.978535Z"
        },
        "trusted": true,
        "colab": {
          "base_uri": "https://localhost:8080/"
        },
        "id": "lCHu29u2101y",
        "outputId": "88ad828e-98c4-4e42-e752-409bbcd4cd2b"
      },
      "execution_count": 16,
      "outputs": [
        {
          "output_type": "execute_result",
          "data": {
            "text/plain": [
              "<spacy.lang.en.English at 0x7f98652d8a30>"
            ]
          },
          "metadata": {},
          "execution_count": 16
        }
      ]
    },
    {
      "cell_type": "code",
      "source": [
        "def preprocess_text(text):\n",
        "    # Parse the text with Spacy\n",
        "    doc = nlp(text)\n",
        "    \n",
        "    # Lemmatize the tokens and remove stop words\n",
        "    lemmas = [token.lemma_.lower() for token in doc if not token.is_stop]\n",
        "    \n",
        "    # Join the lemmas back into a string and return it\n",
        "    return \" \".join(lemmas)"
      ],
      "metadata": {
        "execution": {
          "iopub.status.busy": "2023-02-27T18:16:10.794420Z",
          "iopub.execute_input": "2023-02-27T18:16:10.794896Z",
          "iopub.status.idle": "2023-02-27T18:16:10.801807Z",
          "shell.execute_reply.started": "2023-02-27T18:16:10.794852Z",
          "shell.execute_reply": "2023-02-27T18:16:10.800401Z"
        },
        "trusted": true,
        "id": "M0aa96g3101z"
      },
      "execution_count": 17,
      "outputs": []
    },
    {
      "cell_type": "code",
      "source": [
        "%%time\n",
        "\n",
        "tqdm.pandas()\n",
        "\n",
        "data['Review'] = data['Review'].progress_apply(preprocess_text)"
      ],
      "metadata": {
        "execution": {
          "iopub.status.busy": "2023-02-27T18:16:57.656225Z",
          "iopub.execute_input": "2023-02-27T18:16:57.656659Z",
          "iopub.status.idle": "2023-02-27T18:25:52.970906Z",
          "shell.execute_reply.started": "2023-02-27T18:16:57.656600Z",
          "shell.execute_reply": "2023-02-27T18:25:52.969412Z"
        },
        "trusted": true,
        "colab": {
          "base_uri": "https://localhost:8080/",
          "height": 86,
          "referenced_widgets": [
            "0ac6bb428f6b4906b53fbbd536d3ea89",
            "d643ef4e1f3c4eabb8d8bc3ef789d6ff",
            "9161535feb0248abbcbb639fac24fc60",
            "e49718503dce4283beb893f5b987ce10",
            "e6fa940fa84b42cc897fe3f8ac1fdf97",
            "a0a157f2ca484c9892d902470ffbc521",
            "f2fdb9b9482d455593ca186a076358f7",
            "52c36d3585344dbc9ae5a35822bf7ac2",
            "b4c8303846ab48dfa10ca6930a8a5a1b",
            "29bd30c52ca54220b62455a3eb750bc7",
            "ad7bd14e1dbc48c59de75f4f34627823"
          ]
        },
        "id": "m9-EIU9P101z",
        "outputId": "4b27f021-15d9-47cf-d458-42c0a5ebe3a8"
      },
      "execution_count": 18,
      "outputs": [
        {
          "output_type": "display_data",
          "data": {
            "text/plain": [
              "  0%|          | 0/20000 [00:00<?, ?it/s]"
            ],
            "application/vnd.jupyter.widget-view+json": {
              "version_major": 2,
              "version_minor": 0,
              "model_id": "0ac6bb428f6b4906b53fbbd536d3ea89"
            }
          },
          "metadata": {}
        },
        {
          "output_type": "stream",
          "name": "stdout",
          "text": [
            "CPU times: user 16min 54s, sys: 10.7 s, total: 17min 4s\n",
            "Wall time: 17min 48s\n"
          ]
        }
      ]
    },
    {
      "cell_type": "code",
      "source": [
        "def preprocess_signs(text):\n",
        "    # Remove URLs\n",
        "    text = re.sub(r'http\\S+', '', text)\n",
        "\n",
        "    # Remove mentions and hashtags\n",
        "    text = re.sub(r'@\\w+|#\\w+', '', text)\n",
        "\n",
        "    # Remove punctuation and convert to lowercase\n",
        "    text = text.translate(str.maketrans('', '', string.punctuation)).lower()\n",
        "\n",
        "    # Remove extra whitespace\n",
        "    text = re.sub('\\s+', ' ', text).strip()\n",
        "\n",
        "    return text"
      ],
      "metadata": {
        "execution": {
          "iopub.status.busy": "2023-02-27T18:25:55.330765Z",
          "iopub.execute_input": "2023-02-27T18:25:55.331700Z",
          "iopub.status.idle": "2023-02-27T18:25:55.339462Z",
          "shell.execute_reply.started": "2023-02-27T18:25:55.331634Z",
          "shell.execute_reply": "2023-02-27T18:25:55.337781Z"
        },
        "trusted": true,
        "id": "P8OtG-Kc101z"
      },
      "execution_count": 19,
      "outputs": []
    },
    {
      "cell_type": "code",
      "source": [
        "data['Review'] = data['Review'].apply(preprocess_signs)"
      ],
      "metadata": {
        "execution": {
          "iopub.status.busy": "2023-02-27T18:25:57.306106Z",
          "iopub.execute_input": "2023-02-27T18:25:57.307021Z",
          "iopub.status.idle": "2023-02-27T18:25:58.503506Z",
          "shell.execute_reply.started": "2023-02-27T18:25:57.306967Z",
          "shell.execute_reply": "2023-02-27T18:25:58.502001Z"
        },
        "trusted": true,
        "id": "jxkw6nHf1010"
      },
      "execution_count": 20,
      "outputs": []
    },
    {
      "cell_type": "code",
      "source": [
        "# Save the processed DataFrame as a CSV file\n",
        "data.to_csv('/content/drive/MyDrive/processed_data.csv', index=False)"
      ],
      "metadata": {
        "id": "d1_JjJmnrsas"
      },
      "execution_count": 21,
      "outputs": []
    },
    {
      "cell_type": "markdown",
      "source": [
        "# Commonly Used Words"
      ],
      "metadata": {
        "id": "IzqPIgY_1010"
      }
    },
    {
      "cell_type": "code",
      "source": [
        "import matplotlib.pyplot as plt\n",
        "from collections import Counter\n",
        "import re\n",
        "\n",
        "import nltk\n",
        "from nltk.corpus import stopwords"
      ],
      "metadata": {
        "execution": {
          "iopub.status.busy": "2023-02-27T18:26:00.392752Z",
          "iopub.execute_input": "2023-02-27T18:26:00.393186Z",
          "iopub.status.idle": "2023-02-27T18:26:00.938613Z",
          "shell.execute_reply.started": "2023-02-27T18:26:00.393149Z",
          "shell.execute_reply": "2023-02-27T18:26:00.937279Z"
        },
        "trusted": true,
        "id": "g956HjEi1010"
      },
      "execution_count": 22,
      "outputs": []
    },
    {
      "cell_type": "code",
      "source": [
        "# Concatenate all tweet texts into a single string\n",
        "all_text = ' '.join(data['Review'].values)"
      ],
      "metadata": {
        "execution": {
          "iopub.status.busy": "2023-02-27T18:26:01.991745Z",
          "iopub.execute_input": "2023-02-27T18:26:01.992167Z",
          "iopub.status.idle": "2023-02-27T18:26:02.018708Z",
          "shell.execute_reply.started": "2023-02-27T18:26:01.992121Z",
          "shell.execute_reply": "2023-02-27T18:26:02.016967Z"
        },
        "trusted": true,
        "id": "sxdjjxsm1010"
      },
      "execution_count": 23,
      "outputs": []
    },
    {
      "cell_type": "code",
      "source": [
        "# Split the text into individual words\n",
        "words = all_text.split()"
      ],
      "metadata": {
        "execution": {
          "iopub.status.busy": "2023-02-27T18:26:02.385455Z",
          "iopub.execute_input": "2023-02-27T18:26:02.386326Z",
          "iopub.status.idle": "2023-02-27T18:26:02.639889Z",
          "shell.execute_reply.started": "2023-02-27T18:26:02.386267Z",
          "shell.execute_reply": "2023-02-27T18:26:02.638780Z"
        },
        "trusted": true,
        "id": "tf7IDqaz1011"
      },
      "execution_count": 24,
      "outputs": []
    },
    {
      "cell_type": "code",
      "source": [
        "import nltk\n",
        "nltk.download('stopwords')"
      ],
      "metadata": {
        "colab": {
          "base_uri": "https://localhost:8080/"
        },
        "id": "TkASC5U08GIL",
        "outputId": "b7699b56-099d-4d01-e3fd-e1b694d025d6"
      },
      "execution_count": 25,
      "outputs": [
        {
          "output_type": "stream",
          "name": "stderr",
          "text": [
            "[nltk_data] Downloading package stopwords to /root/nltk_data...\n",
            "[nltk_data]   Unzipping corpora/stopwords.zip.\n"
          ]
        },
        {
          "output_type": "execute_result",
          "data": {
            "text/plain": [
              "True"
            ]
          },
          "metadata": {},
          "execution_count": 25
        }
      ]
    },
    {
      "cell_type": "code",
      "source": [
        "# Remove stop words\n",
        "stop_words = set(stopwords.words('english'))\n",
        "words = [word for word in words if not word in stop_words]"
      ],
      "metadata": {
        "execution": {
          "iopub.status.busy": "2023-02-27T18:26:03.224537Z",
          "iopub.execute_input": "2023-02-27T18:26:03.225662Z",
          "iopub.status.idle": "2023-02-27T18:26:03.511429Z",
          "shell.execute_reply.started": "2023-02-27T18:26:03.225573Z",
          "shell.execute_reply": "2023-02-27T18:26:03.509926Z"
        },
        "trusted": true,
        "id": "uRPtNihq1011"
      },
      "execution_count": 26,
      "outputs": []
    },
    {
      "cell_type": "code",
      "source": [
        "# Count the frequency of each word\n",
        "word_counts = Counter(words)"
      ],
      "metadata": {
        "execution": {
          "iopub.status.busy": "2023-02-27T18:26:03.658700Z",
          "iopub.execute_input": "2023-02-27T18:26:03.659094Z",
          "iopub.status.idle": "2023-02-27T18:26:04.007241Z",
          "shell.execute_reply.started": "2023-02-27T18:26:03.659057Z",
          "shell.execute_reply": "2023-02-27T18:26:04.005414Z"
        },
        "trusted": true,
        "id": "Y_wz1CyY1011"
      },
      "execution_count": 27,
      "outputs": []
    },
    {
      "cell_type": "code",
      "source": [
        "top_words = word_counts.most_common(50)\n",
        "top_words"
      ],
      "metadata": {
        "execution": {
          "iopub.status.busy": "2023-02-27T18:26:05.018143Z",
          "iopub.execute_input": "2023-02-27T18:26:05.018575Z",
          "iopub.status.idle": "2023-02-27T18:26:05.048131Z",
          "shell.execute_reply.started": "2023-02-27T18:26:05.018535Z",
          "shell.execute_reply": "2023-02-27T18:26:05.046898Z"
        },
        "trusted": true,
        "colab": {
          "base_uri": "https://localhost:8080/"
        },
        "id": "r5nGCr601011",
        "outputId": "c20fe200-6faa-4229-be3e-c37733adafc9"
      },
      "execution_count": 28,
      "outputs": [
        {
          "output_type": "execute_result",
          "data": {
            "text/plain": [
              "[('hotel', 47108),\n",
              " ('room', 33824),\n",
              " ('staff', 24206),\n",
              " ('good', 21992),\n",
              " ('pool', 21623),\n",
              " ('food', 19331),\n",
              " ('day', 17818),\n",
              " ('stay', 17529),\n",
              " ('time', 14511),\n",
              " ('great', 12530),\n",
              " ('restaurant', 11834),\n",
              " ('night', 11045),\n",
              " ('bar', 10454),\n",
              " ('service', 10307),\n",
              " ('nice', 10216),\n",
              " ('go', 9395),\n",
              " ('clean', 9367),\n",
              " ('like', 8873),\n",
              " ('drink', 8852),\n",
              " ('lovely', 7753),\n",
              " ('area', 7615),\n",
              " ('breakfast', 7355),\n",
              " ('people', 7262),\n",
              " ('reception', 7208),\n",
              " ('want', 7172),\n",
              " ('place', 7161),\n",
              " ('find', 7125),\n",
              " ('friendly', 7046),\n",
              " ('need', 6903),\n",
              " ('holiday', 6876),\n",
              " ('come', 6845),\n",
              " ('marrakech', 6807),\n",
              " ('get', 6677),\n",
              " ('book', 6500),\n",
              " ('bed', 6475),\n",
              " ('ask', 6460),\n",
              " ('water', 6135),\n",
              " ('work', 5969),\n",
              " ('look', 5882),\n",
              " ('feel', 5844),\n",
              " ('take', 5740),\n",
              " ('2', 5652),\n",
              " ('lot', 5595),\n",
              " ('entertainment', 5588),\n",
              " ('leave', 5569),\n",
              " ('pay', 5569),\n",
              " ('walk', 5553),\n",
              " ('5', 5440),\n",
              " ('recommend', 5404),\n",
              " ('evening', 5341)]"
            ]
          },
          "metadata": {},
          "execution_count": 28
        }
      ]
    },
    {
      "cell_type": "code",
      "source": [
        "# Create a bar chart of the most common words\n",
        "top_words = word_counts.most_common(10) # Change the number to show more/less words\n",
        "x_values = [word[0] for word in top_words]\n",
        "y_values = [word[1] for word in top_words]\n",
        "plt.bar(x_values, y_values)\n",
        "plt.xlabel('Word')\n",
        "plt.ylabel('Frequency')\n",
        "plt.title('Most Commonly Used Words')\n",
        "plt.show()"
      ],
      "metadata": {
        "execution": {
          "iopub.status.busy": "2023-02-27T18:26:07.928891Z",
          "iopub.execute_input": "2023-02-27T18:26:07.929313Z",
          "iopub.status.idle": "2023-02-27T18:26:08.248291Z",
          "shell.execute_reply.started": "2023-02-27T18:26:07.929273Z",
          "shell.execute_reply": "2023-02-27T18:26:08.247230Z"
        },
        "trusted": true,
        "colab": {
          "base_uri": "https://localhost:8080/",
          "height": 0
        },
        "id": "d2pHmFZ41012",
        "outputId": "60b7f341-abe2-448e-fd17-47949401fc1e"
      },
      "execution_count": 29,
      "outputs": [
        {
          "output_type": "display_data",
          "data": {
            "text/plain": [
              "<Figure size 640x480 with 1 Axes>"
            ],
            "image/png": "[encoded data removed]"
          },
          "metadata": {}
        }
      ]
    },
    {
      "cell_type": "markdown",
      "source": [
        "# Converting Text into Numerical Features / Vectorization"
      ],
      "metadata": {
        "id": "LmP5TjHS1012"
      }
    },
    {
      "cell_type": "code",
      "source": [
        "from sklearn.feature_extraction.text import TfidfVectorizer\n",
        "\n",
        "vectorizer = TfidfVectorizer()\n",
        "X = vectorizer.fit_transform(data['Review'])\n",
        "y = data['Rating']"
      ],
      "metadata": {
        "execution": {
          "iopub.status.busy": "2023-02-27T18:26:17.578823Z",
          "iopub.execute_input": "2023-02-27T18:26:17.579243Z",
          "iopub.status.idle": "2023-02-27T18:26:19.711905Z",
          "shell.execute_reply.started": "2023-02-27T18:26:17.579207Z",
          "shell.execute_reply": "2023-02-27T18:26:19.710145Z"
        },
        "trusted": true,
        "id": "XYlIn4dV1012"
      },
      "execution_count": 30,
      "outputs": []
    },
    {
      "cell_type": "markdown",
      "source": [
        "# Class Distributions"
      ],
      "metadata": {
        "id": "7lIkbgQ-1012"
      }
    },
    {
      "cell_type": "code",
      "source": [
        "# Count the number of instances in each class\n",
        "class_counts = data['Rating'].value_counts()\n",
        "\n",
        "# Print the class distribution\n",
        "print('Ratings distribution:')\n",
        "print(class_counts)"
      ],
      "metadata": {
        "execution": {
          "iopub.status.busy": "2023-02-27T18:27:52.647296Z",
          "iopub.execute_input": "2023-02-27T18:27:52.647738Z",
          "iopub.status.idle": "2023-02-27T18:27:52.655554Z",
          "shell.execute_reply.started": "2023-02-27T18:27:52.647700Z",
          "shell.execute_reply": "2023-02-27T18:27:52.654263Z"
        },
        "trusted": true,
        "colab": {
          "base_uri": "https://localhost:8080/"
        },
        "id": "qclE14X_1012",
        "outputId": "68852239-343f-468d-86b1-58d05516c539"
      },
      "execution_count": 31,
      "outputs": [
        {
          "output_type": "stream",
          "name": "stdout",
          "text": [
            "Ratings distribution:\n",
            "5    7317\n",
            "4    4856\n",
            "3    4310\n",
            "2    1767\n",
            "1    1750\n",
            "Name: Rating, dtype: int64\n"
          ]
        }
      ]
    },
    {
      "cell_type": "code",
      "source": [
        "class_counts.plot.bar()\n",
        "plt.title('Class Distribution')\n",
        "plt.xlabel('Rating')\n",
        "plt.ylabel('Count')\n",
        "plt.show()"
      ],
      "metadata": {
        "execution": {
          "iopub.status.busy": "2023-02-27T18:27:54.954615Z",
          "iopub.execute_input": "2023-02-27T18:27:54.955070Z",
          "iopub.status.idle": "2023-02-27T18:27:55.233036Z",
          "shell.execute_reply.started": "2023-02-27T18:27:54.955031Z",
          "shell.execute_reply": "2023-02-27T18:27:55.231908Z"
        },
        "trusted": true,
        "colab": {
          "base_uri": "https://localhost:8080/",
          "height": 467
        },
        "id": "fgvQIkpw1013",
        "outputId": "e6b6225f-dc58-4d6a-ee3c-910f969c5be5"
      },
      "execution_count": 32,
      "outputs": [
        {
          "output_type": "display_data",
          "data": {
            "text/plain": [
              "<Figure size 640x480 with 1 Axes>"
            ],
            "image/png": "[encoded data removed]"
          },
          "metadata": {}
        }
      ]
    },
    {
      "cell_type": "markdown",
      "source": [
        "# ML Models"
      ],
      "metadata": {
        "id": "dL5i6-BD1013"
      }
    },
    {
      "cell_type": "code",
      "source": [
        "from sklearn.model_selection import train_test_split\n",
        "\n",
        "X_train, X_test, y_train, y_test = train_test_split(X, y, test_size=0.2, random_state=42)"
      ],
      "metadata": {
        "execution": {
          "iopub.status.busy": "2023-02-27T18:28:00.083927Z",
          "iopub.execute_input": "2023-02-27T18:28:00.084756Z",
          "iopub.status.idle": "2023-02-27T18:28:00.103854Z",
          "shell.execute_reply.started": "2023-02-27T18:28:00.084702Z",
          "shell.execute_reply": "2023-02-27T18:28:00.102234Z"
        },
        "trusted": true,
        "id": "8aOEpsmq1013"
      },
      "execution_count": 33,
      "outputs": []
    },
    {
      "cell_type": "code",
      "source": [
        "print(\"X Train : \", X_train.shape)\n",
        "print(\"X Test  : \", X_test.shape)\n",
        "print(\"Y Train : \", y_train.shape)\n",
        "print(\"Y Test  : \", y_test.shape)"
      ],
      "metadata": {
        "colab": {
          "base_uri": "https://localhost:8080/"
        },
        "id": "cgxkHU45HSZk",
        "outputId": "051a8b99-864c-47bf-b149-8c4a4bfe83ae"
      },
      "execution_count": 34,
      "outputs": [
        {
          "output_type": "stream",
          "name": "stdout",
          "text": [
            "X Train :  (16000, 38634)\n",
            "X Test  :  (4000, 38634)\n",
            "Y Train :  (16000,)\n",
            "Y Test  :  (4000,)\n"
          ]
        }
      ]
    },
    {
      "cell_type": "code",
      "source": [
        "#Importing the basic librarires for building model - classification\n",
        "\n",
        "from sklearn.model_selection import train_test_split\n",
        "\n",
        "from sklearn.metrics import accuracy_score,r2_score\n",
        "from sklearn.metrics import confusion_matrix\n",
        "from sklearn.metrics import classification_report\n",
        "from sklearn.metrics import mean_absolute_error\n",
        "from sklearn.metrics import mean_squared_error\n",
        "\n",
        "\n",
        "from sklearn.linear_model import LogisticRegression\n",
        "from sklearn.tree import DecisionTreeClassifier\n",
        "from sklearn.neighbors import  KNeighborsClassifier\n",
        "from sklearn.ensemble import RandomForestClassifier\n",
        "from sklearn.neural_network import  MLPClassifier\n",
        "from sklearn.svm import SVC\n",
        "from xgboost import XGBClassifier\n",
        "from sklearn.naive_bayes import MultinomialNB\n",
        "\n",
        "from sklearn.feature_extraction.text import CountVectorizer\n",
        "\n",
        "from sklearn.preprocessing import LabelEncoder,StandardScaler\n",
        "import joblib\n"
      ],
      "metadata": {
        "id": "M5GojEi7Hleg"
      },
      "execution_count": 39,
      "outputs": []
    },
    {
      "cell_type": "code",
      "source": [
        "#Defined object from library classification \n",
        "\n",
        "LR = LogisticRegression()\n",
        "RFR = RandomForestClassifier()\n",
        "KNR = KNeighborsClassifier()\n",
        "SVM = SVC()\n",
        "NB = MultinomialNB()"
      ],
      "metadata": {
        "id": "kEBatR_dHcm3"
      },
      "execution_count": 36,
      "outputs": []
    },
    {
      "cell_type": "code",
      "source": [
        "# make for loop for classification \n",
        "\n",
        "li = [LR,RFR,KNR,SVM,NB]\n",
        "d = {}\n",
        "for model in li:\n",
        "    model.fit(X_train,y_train)\n",
        "    ypred = model.predict(X_test)\n",
        "    print(model,\":\",accuracy_score(y_test,ypred)*100)\n",
        "    d.update({str(model):model.score(X_test,y_test)*100})\n",
        "    \n",
        "    # Save the trained model to a file\n",
        "    filename = str(model) + '.joblib'\n",
        "    file_path = os.path.join('/content/drive/MyDrive/', filename)\n",
        "    joblib.dump(model, file_path)"
      ],
      "metadata": {
        "id": "1-xivIjyHf6C",
        "colab": {
          "base_uri": "https://localhost:8080/"
        },
        "outputId": "07772e3a-3ae5-40f4-ab8f-908732fa8a69"
      },
      "execution_count": 37,
      "outputs": [
        {
          "output_type": "stream",
          "name": "stderr",
          "text": [
            "/usr/local/lib/python3.9/dist-packages/sklearn/linear_model/_logistic.py:458: ConvergenceWarning: lbfgs failed to converge (status=1):\n",
            "STOP: TOTAL NO. of ITERATIONS REACHED LIMIT.\n",
            "\n",
            "Increase the number of iterations (max_iter) or scale the data as shown in:\n",
            "    https://scikit-learn.org/stable/modules/preprocessing.html\n",
            "Please also refer to the documentation for alternative solver options:\n",
            "    https://scikit-learn.org/stable/modules/linear_model.html#logistic-regression\n",
            "  n_iter_i = _check_optimize_result(\n"
          ]
        },
        {
          "output_type": "stream",
          "name": "stdout",
          "text": [
            "LogisticRegression() : 63.449999999999996\n",
            "RandomForestClassifier() : 54.474999999999994\n",
            "KNeighborsClassifier() : 50.575\n",
            "SVC() : 64.325\n",
            "MultinomialNB() : 54.55\n"
          ]
        }
      ]
    },
    {
      "cell_type": "code",
      "source": [
        "# make graph about Accuracy\n",
        "plt.figure(figsize=(30, 6))\n",
        "plt.title(\"Algorithm vs Accuracy\")\n",
        "plt.xlabel(\"Algorithm\")\n",
        "plt.ylabel(\"Accuracy\")\n",
        "plt.plot(d.keys(),d.values(),marker='o',color='red')\n",
        "plt.show()"
      ],
      "metadata": {
        "colab": {
          "base_uri": "https://localhost:8080/",
          "height": 336
        },
        "id": "ldYhGP9vHrHH",
        "outputId": "74018027-3ca2-415d-dcf4-bf0643ff1b64"
      },
      "execution_count": 38,
      "outputs": [
        {
          "output_type": "display_data",
          "data": {
            "text/plain": [
              "<Figure size 3000x600 with 1 Axes>"
            ],
            "image/png": "[encoded data removed]"
          },
          "metadata": {}
        }
      ]
    },
    {
      "cell_type": "code",
      "source": [
        "# Load a saved model from a file\n",
        "filename = 'LogisticRegression().joblib'\n",
        "file_path = os.path.join('/content/drive/MyDrive/', filename)\n",
        "LogisticRegression = joblib.load(file_path)\n",
        "pred = LogisticRegression.predict(X_test)"
      ],
      "metadata": {
        "id": "LhkTvrBfUeoK"
      },
      "execution_count": 46,
      "outputs": []
    },
    {
      "cell_type": "code",
      "source": [
        "print('Accuracy: {}'.format(accuracy_score(pred, y_test)))\n",
        "print(\"Mean absolute error: {}\".format(mean_absolute_error(pred,y_test)))\n",
        "print(\"Root mean square error: {}\".format(np.sqrt(mean_squared_error(pred,y_test))))\n"
      ],
      "metadata": {
        "id": "eQk3HIV2J8YR",
        "colab": {
          "base_uri": "https://localhost:8080/"
        },
        "outputId": "efc0a670-8e37-4af0-dc86-8fc44dbbf580"
      },
      "execution_count": 47,
      "outputs": [
        {
          "output_type": "stream",
          "name": "stdout",
          "text": [
            "Accuracy: 0.6345\n",
            "Mean absolute error: 0.44525\n",
            "Root mean square error: 0.7976528066771909\n"
          ]
        }
      ]
    },
    {
      "cell_type": "code",
      "source": [
        "import seaborn as sns\n",
        "\n",
        "labels = ['1', '2', '3', '4', '5']\n",
        "conf = confusion_matrix(y_test, pred)\n",
        "\n",
        "cm = pd.DataFrame(\n",
        "    conf, index = [i for i in labels],\n",
        "    columns = [i for i in labels]\n",
        ")\n",
        "\n",
        "plt.figure(figsize = (12,7))\n",
        "sns.heatmap(cm, annot=True, fmt=\"d\")\n",
        "plt.show()"
      ],
      "metadata": {
        "colab": {
          "base_uri": "https://localhost:8080/",
          "height": 599
        },
        "id": "LJltrXeJTjry",
        "outputId": "03e6c207-f888-475d-feb2-f94eff7cdc12"
      },
      "execution_count": 44,
      "outputs": [
        {
          "output_type": "display_data",
          "data": {
            "text/plain": [
              "<Figure size 1200x700 with 2 Axes>"
            ],
            "image/png": "[encoded data removed]"
          },
          "metadata": {}
        }
      ]
    },
    {
      "cell_type": "code",
      "source": [
        "print(classification_report(y_test, pred, target_names=labels))"
      ],
      "metadata": {
        "colab": {
          "base_uri": "https://localhost:8080/"
        },
        "id": "t4akqzI_TnfK",
        "outputId": "3c5ca458-45d9-4955-cede-a8e7869964f9"
      },
      "execution_count": 45,
      "outputs": [
        {
          "output_type": "stream",
          "name": "stdout",
          "text": [
            "              precision    recall  f1-score   support\n",
            "\n",
            "           1       0.60      0.59      0.59       348\n",
            "           2       0.35      0.12      0.18       351\n",
            "           3       0.53      0.64      0.58       859\n",
            "           4       0.56      0.49      0.52       991\n",
            "           5       0.76      0.87      0.81      1451\n",
            "\n",
            "    accuracy                           0.63      4000\n",
            "   macro avg       0.56      0.54      0.54      4000\n",
            "weighted avg       0.61      0.63      0.62      4000\n",
            "\n"
          ]
        }
      ]
    },
    {
      "cell_type": "code",
      "source": [],
      "metadata": {
        "id": "Ju-ArQEnX_uU"
      },
      "execution_count": null,
      "outputs": []
    }
  ]
}